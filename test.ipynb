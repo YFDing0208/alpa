{
 "cells": [
  {
   "cell_type": "code",
   "execution_count": 8,
   "metadata": {},
   "outputs": [],
   "source": [
    "num_devices_per_host = 3\n",
    "num_hosts = 2\n",
    "\n",
    "host_indices = tuple(range(num_hosts))\n",
    "device_indices = (tuple(range(num_devices_per_host)),) * num_hosts"
   ]
  },
  {
   "cell_type": "code",
   "execution_count": null,
   "metadata": {},
   "outputs": [],
   "source": [
    "for x in host_indices:\n",
    "    print(x)\n",
    "\n",
    "for i in range(len(device_indices)):\n",
    "            for x in device_indices[i]:\n",
    "                print(x)\n"
   ]
  },
  {
   "cell_type": "code",
   "execution_count": 9,
   "metadata": {},
   "outputs": [
    {
     "name": "stdout",
     "output_type": "stream",
     "text": [
      "(0, 1)\n",
      "((0, 1, 2), (0, 1, 2))\n"
     ]
    }
   ],
   "source": [
    "print(host_indices)\n",
    "\n",
    "print(device_indices)"
   ]
  },
  {
   "cell_type": "markdown",
   "metadata": {},
   "source": [
    "# 测试Ray API"
   ]
  },
  {
   "cell_type": "code",
   "execution_count": null,
   "metadata": {},
   "outputs": [],
   "source": [
    "import ray"
   ]
  }
 ],
 "metadata": {
  "kernelspec": {
   "display_name": "alpa",
   "language": "python",
   "name": "python3"
  },
  "language_info": {
   "codemirror_mode": {
    "name": "ipython",
    "version": 3
   },
   "file_extension": ".py",
   "mimetype": "text/x-python",
   "name": "python",
   "nbconvert_exporter": "python",
   "pygments_lexer": "ipython3",
   "version": "3.9.19"
  }
 },
 "nbformat": 4,
 "nbformat_minor": 2
}
