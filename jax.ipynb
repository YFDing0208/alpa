{
 "cells": [
  {
   "cell_type": "markdown",
   "metadata": {},
   "source": []
  },
  {
   "cell_type": "code",
   "execution_count": 5,
   "metadata": {},
   "outputs": [],
   "source": [
    "import jax\n",
    "import jax.numpy as jnp\n",
    "\n",
    "from jax import grad"
   ]
  },
  {
   "cell_type": "markdown",
   "metadata": {},
   "source": []
  },
  {
   "cell_type": "markdown",
   "metadata": {},
   "source": []
  },
  {
   "cell_type": "code",
   "execution_count": null,
   "metadata": {},
   "outputs": [],
   "source": []
  },
  {
   "cell_type": "markdown",
   "metadata": {},
   "source": []
  },
  {
   "cell_type": "markdown",
   "metadata": {},
   "source": []
  },
  {
   "cell_type": "markdown",
   "metadata": {},
   "source": []
  },
  {
   "cell_type": "markdown",
   "metadata": {},
   "source": []
  },
  {
   "cell_type": "code",
   "execution_count": 1,
   "metadata": {},
   "outputs": [
    {
     "name": "stderr",
     "output_type": "stream",
     "text": [
      "/home/ainet/anaconda3/envs/alpa/lib/python3.9/site-packages/tqdm/auto.py:21: TqdmWarning: IProgress not found. Please update jupyter and ipywidgets. See https://ipywidgets.readthedocs.io/en/stable/user_install.html\n",
      "  from .autonotebook import tqdm as notebook_tqdm\n",
      "2024-11-02 19:00:42,449\tINFO util.py:154 -- Missing packages: ['ipywidgets']. Run `pip install -U ipywidgets`, then restart the notebook server for rich notebook output.\n"
     ]
    }
   ],
   "source": [
    "import alpa\n",
    "\n"
   ]
  },
  {
   "cell_type": "code",
   "execution_count": 2,
   "metadata": {},
   "outputs": [
    {
     "name": "stderr",
     "output_type": "stream",
     "text": [
      "2024-11-02 19:00:43,713\tINFO worker.py:1601 -- Connecting to existing Ray cluster at address: 114.212.82.188:6379...\n"
     ]
    },
    {
     "name": "stderr",
     "output_type": "stream",
     "text": [
      "2024-11-02 19:00:43,727\tINFO worker.py:1786 -- Connected to Ray cluster.\n"
     ]
    },
    {
     "name": "stdout",
     "output_type": "stream",
     "text": [
      "Initializing ray with address auto\n",
      "GPUlets enabled, getting GPU info from node: 114.212.82.188\n",
      "\n",
      "all_host_info: [{'NodeID': 'ec6088ccf0536a286559323f4b78fbcae3176196150c92cacd1cb693', 'Alive': True, 'NodeManagerAddress': '114.212.82.188', 'NodeManagerHostname': 'ubuntu', 'NodeManagerPort': 42843, 'ObjectManagerPort': 38409, 'ObjectStoreSocketName': '/data/dyf/tmp/ray/session_2024-10-30_15-51-01_026041_6869/sockets/plasma_store', 'RayletSocketName': '/data/dyf/tmp/ray/session_2024-10-30_15-51-01_026041_6869/sockets/raylet', 'MetricsExportPort': 63194, 'NodeName': '114.212.82.188', 'RuntimeEnvAgentPort': 63399, 'DeathReason': 0, 'DeathReasonMessage': '', 'alive': True, 'Resources': {'memory': 66703956583.0, 'GPU': 2.0, 'node:114.212.82.188': 1.0, 'accelerator_type:G': 1.0, 'object_store_memory': 32873124249.0, 'node:__internal_head__': 1.0, 'CPU': 40.0}, 'Labels': {'ray.io/node_id': 'ec6088ccf0536a286559323f4b78fbcae3176196150c92cacd1cb693'}}]\n",
      "all_host_num_devices: [2]\n"
     ]
    },
    {
     "ename": "AttributeError",
     "evalue": "'list' object has no attribute 'gpulets'",
     "output_type": "error",
     "traceback": [
      "\u001b[0;31m---------------------------------------------------------------------------\u001b[0m",
      "\u001b[0;31mAttributeError\u001b[0m                            Traceback (most recent call last)",
      "Cell \u001b[0;32mIn[2], line 1\u001b[0m\n\u001b[0;32m----> 1\u001b[0m \u001b[43malpa\u001b[49m\u001b[38;5;241;43m.\u001b[39;49m\u001b[43minit\u001b[49m\u001b[43m(\u001b[49m\u001b[43mcluster\u001b[49m\u001b[38;5;241;43m=\u001b[39;49m\u001b[38;5;124;43m\"\u001b[39;49m\u001b[38;5;124;43mray\u001b[39;49m\u001b[38;5;124;43m\"\u001b[39;49m\u001b[43m)\u001b[49m\n",
      "File \u001b[0;32m/data/dyf/alpa/alpa/api.py:59\u001b[0m, in \u001b[0;36minit\u001b[0;34m(cluster, cluster_address, num_nodes, num_devices_per_node, namespace)\u001b[0m\n\u001b[1;32m     56\u001b[0m     \u001b[38;5;28;01mreturn\u001b[39;00m\n\u001b[1;32m     57\u001b[0m is_initialized \u001b[38;5;241m=\u001b[39m \u001b[38;5;28;01mTrue\u001b[39;00m\n\u001b[0;32m---> 59\u001b[0m \u001b[43minit_global_cluster\u001b[49m\u001b[43m(\u001b[49m\u001b[43mcluster\u001b[49m\u001b[43m,\u001b[49m\u001b[43m \u001b[49m\u001b[43mcluster_address\u001b[49m\u001b[43m,\u001b[49m\u001b[43m \u001b[49m\u001b[43mnum_nodes\u001b[49m\u001b[43m,\u001b[49m\n\u001b[1;32m     60\u001b[0m \u001b[43m                    \u001b[49m\u001b[43mnum_devices_per_node\u001b[49m\u001b[43m,\u001b[49m\u001b[43m \u001b[49m\u001b[43mnamespace\u001b[49m\u001b[43m)\u001b[49m\n",
      "File \u001b[0;32m/data/dyf/alpa/alpa/device_mesh.py:2617\u001b[0m, in \u001b[0;36minit_global_cluster\u001b[0;34m(cluster, cluster_address, num_nodes, num_devices_per_node, namespace)\u001b[0m\n\u001b[1;32m   2612\u001b[0m global_cluster \u001b[38;5;241m=\u001b[39m DeviceCluster(num_nodes, num_devices_per_node)\n\u001b[1;32m   2613\u001b[0m global_virtual_physical_mesh \u001b[38;5;241m=\u001b[39m (\n\u001b[1;32m   2614\u001b[0m     global_cluster\u001b[38;5;241m.\u001b[39mget_virtual_physical_mesh())\n\u001b[1;32m   2616\u001b[0m global_gpulet_mesh \u001b[38;5;241m=\u001b[39m (\n\u001b[0;32m-> 2617\u001b[0m     \u001b[43mglobal_virtual_physical_mesh\u001b[49m\u001b[38;5;241;43m.\u001b[39;49m\u001b[43mget_gpulet_mesh\u001b[49m\u001b[43m(\u001b[49m\u001b[43m)\u001b[49m)\n",
      "File \u001b[0;32m/data/dyf/alpa/alpa/device_mesh.py:2125\u001b[0m, in \u001b[0;36mVirtualPhysicalMesh.get_gpulet_mesh\u001b[0;34m(self)\u001b[0m\n\u001b[1;32m   2122\u001b[0m         gpu_ids\u001b[38;5;241m.\u001b[39mappend(gpu\u001b[38;5;241m.\u001b[39mgpu_id)\n\u001b[1;32m   2124\u001b[0m gpu_infos \u001b[38;5;241m=\u001b[39m [gpuinfo \u001b[38;5;28;01mfor\u001b[39;00m gpuinfo \u001b[38;5;129;01min\u001b[39;00m \u001b[38;5;28mself\u001b[39m\u001b[38;5;241m.\u001b[39mgpu_info_per_node\u001b[38;5;241m.\u001b[39mvalues()]\n\u001b[0;32m-> 2125\u001b[0m \u001b[38;5;28;01mreturn\u001b[39;00m \u001b[43mGPUletMesh\u001b[49m\u001b[43m(\u001b[49m\n\u001b[1;32m   2126\u001b[0m \u001b[43m    \u001b[49m\u001b[43mgpu_ids\u001b[49m\u001b[38;5;241;43m=\u001b[39;49m\u001b[43mgpu_ids\u001b[49m\u001b[43m,\u001b[49m\n\u001b[1;32m   2127\u001b[0m \u001b[43m    \u001b[49m\u001b[43mgpu_infos\u001b[49m\u001b[38;5;241;43m=\u001b[39;49m\u001b[43mgpu_infos\u001b[49m\u001b[43m,\u001b[49m\n\u001b[1;32m   2128\u001b[0m \u001b[43m    \u001b[49m\u001b[43mbelong_to\u001b[49m\u001b[38;5;241;43m=\u001b[39;49m\u001b[38;5;28;43mself\u001b[39;49m\u001b[43m,\u001b[49m\n\u001b[1;32m   2129\u001b[0m \u001b[43m    \u001b[49m\u001b[43mparent\u001b[49m\u001b[38;5;241;43m=\u001b[39;49m\u001b[38;5;28;43;01mNone\u001b[39;49;00m\u001b[43m,\u001b[49m\u001b[43m \u001b[49m\u001b[38;5;66;43;03m# 表明这个GPUletMesh是由哪个GPUletMesh切分而来，\u001b[39;49;00m\n\u001b[1;32m   2130\u001b[0m \u001b[43m                 \u001b[49m\u001b[38;5;66;43;03m# 对于由VirtualPhyscialMesh转化的GPUletMesh而言，parent应该为None\u001b[39;49;00m\n\u001b[1;32m   2131\u001b[0m \u001b[43m\u001b[49m\u001b[43m)\u001b[49m\n",
      "File \u001b[0;32m/data/dyf/alpa/alpa/device_mesh.py:2162\u001b[0m, in \u001b[0;36mGPUletMesh.__init__\u001b[0;34m(self, gpu_ids, gpu_infos, belong_to, parent, gpulets)\u001b[0m\n\u001b[1;32m   2160\u001b[0m     gpulets \u001b[38;5;241m=\u001b[39m []\n\u001b[1;32m   2161\u001b[0m     \u001b[38;5;28;01mfor\u001b[39;00m gpu \u001b[38;5;129;01min\u001b[39;00m \u001b[38;5;28mself\u001b[39m\u001b[38;5;241m.\u001b[39mgpu_infos:\n\u001b[0;32m-> 2162\u001b[0m         gpulets\u001b[38;5;241m.\u001b[39mappend([gpulet\u001b[38;5;241m.\u001b[39mid \u001b[38;5;28;01mfor\u001b[39;00m gpulet \u001b[38;5;129;01min\u001b[39;00m \u001b[43mgpu\u001b[49m\u001b[38;5;241;43m.\u001b[39;49m\u001b[43mgpulets\u001b[49m])\n\u001b[1;32m   2164\u001b[0m \u001b[38;5;28mself\u001b[39m\u001b[38;5;241m.\u001b[39mgpulets \u001b[38;5;241m=\u001b[39m gpulets\n\u001b[1;32m   2166\u001b[0m \u001b[38;5;66;03m#self.launched_physical_mesh = None\u001b[39;00m\n\u001b[1;32m   2167\u001b[0m \u001b[38;5;66;03m#self.launched_physical_mesh_group = None\u001b[39;00m\n",
      "\u001b[0;31mAttributeError\u001b[0m: 'list' object has no attribute 'gpulets'"
     ]
    }
   ],
   "source": [
    "alpa.init(cluster=\"ray\")"
   ]
  },
  {
   "cell_type": "code",
   "execution_count": 9,
   "metadata": {},
   "outputs": [],
   "source": [
    "alpa.shutdown()"
   ]
  },
  {
   "cell_type": "code",
   "execution_count": 3,
   "metadata": {},
   "outputs": [
    {
     "name": "stdout",
     "output_type": "stream",
     "text": [
      "<alpa.device_mesh.DeviceCluster object at 0x7f8c636fda30>\n",
      "node ec6088ccf0536a286559323f4b78fbcae3176196150c92cacd1cb693 has 2 GPUs\n",
      "Physical GPU: NVIDIA GeForce RTX 3090\n",
      "    GPUID: 0\n",
      "    UUID: GPU-174678e7-9442-e990-ec4a-2208b906ffc6\n",
      "    Memory: 24.0 GB\n",
      "    Node ID: ec6088ccf0536a286559323f4b78fbcae3176196150c92cacd1cb693\n",
      "    Compute Capacity: 35.6\n",
      "    Number of GPUlets: 0\n",
      "    GPUlets:\n",
      "Physical GPU: NVIDIA GeForce RTX 3090\n",
      "    GPUID: 1\n",
      "    UUID: GPU-b5ef7776-5b2c-5b84-3aa9-c0b1a604e7f0\n",
      "    Memory: 24.0 GB\n",
      "    Node ID: ec6088ccf0536a286559323f4b78fbcae3176196150c92cacd1cb693\n",
      "    Compute Capacity: 35.6\n",
      "    Number of GPUlets: 0\n",
      "    GPUlets:\n"
     ]
    }
   ],
   "source": [
    "from alpa.device_mesh import get_global_cluster\n",
    "\n",
    "cluster = get_global_cluster()\n",
    "print(cluster)\n",
    "cluster.print_gpus_info()"
   ]
  },
  {
   "cell_type": "code",
   "execution_count": 4,
   "metadata": {},
   "outputs": [
    {
     "name": "stdout",
     "output_type": "stream",
     "text": [
      "Physical GPU: NVIDIA GeForce RTX 3090\n",
      "    GPUID: 0\n",
      "    UUID: GPU-174678e7-9442-e990-ec4a-2208b906ffc6\n",
      "    Memory: 24.0 GB\n",
      "    Node ID: ec6088ccf0536a286559323f4b78fbcae3176196150c92cacd1cb693\n",
      "    Compute Capacity: 35.6\n",
      "    Number of GPUlets: 6\n",
      "    GPUlets:\n",
      "        GPUlets ID: 0, Memory: 4.0 GB\n",
      "        belongs to NVIDIA GeForce RTX 3090: GPU-174678e7-9442-e990-ec4a-2208b906ffc6\n",
      "        GPUlets ID: 1, Memory: 4.0 GB\n",
      "        belongs to NVIDIA GeForce RTX 3090: GPU-174678e7-9442-e990-ec4a-2208b906ffc6\n",
      "        GPUlets ID: 2, Memory: 4.0 GB\n",
      "        belongs to NVIDIA GeForce RTX 3090: GPU-174678e7-9442-e990-ec4a-2208b906ffc6\n",
      "        GPUlets ID: 3, Memory: 4.0 GB\n",
      "        belongs to NVIDIA GeForce RTX 3090: GPU-174678e7-9442-e990-ec4a-2208b906ffc6\n",
      "        GPUlets ID: 4, Memory: 4.0 GB\n",
      "        belongs to NVIDIA GeForce RTX 3090: GPU-174678e7-9442-e990-ec4a-2208b906ffc6\n",
      "        GPUlets ID: 5, Memory: 4.0 GB\n",
      "        belongs to NVIDIA GeForce RTX 3090: GPU-174678e7-9442-e990-ec4a-2208b906ffc6\n",
      "Physical GPU: NVIDIA GeForce RTX 3090\n",
      "    GPUID: 1\n",
      "    UUID: GPU-b5ef7776-5b2c-5b84-3aa9-c0b1a604e7f0\n",
      "    Memory: 24.0 GB\n",
      "    Node ID: ec6088ccf0536a286559323f4b78fbcae3176196150c92cacd1cb693\n",
      "    Compute Capacity: 35.6\n",
      "    Number of GPUlets: 6\n",
      "    GPUlets:\n",
      "        GPUlets ID: 6, Memory: 4.0 GB\n",
      "        belongs to NVIDIA GeForce RTX 3090: GPU-b5ef7776-5b2c-5b84-3aa9-c0b1a604e7f0\n",
      "        GPUlets ID: 7, Memory: 4.0 GB\n",
      "        belongs to NVIDIA GeForce RTX 3090: GPU-b5ef7776-5b2c-5b84-3aa9-c0b1a604e7f0\n",
      "        GPUlets ID: 8, Memory: 4.0 GB\n",
      "        belongs to NVIDIA GeForce RTX 3090: GPU-b5ef7776-5b2c-5b84-3aa9-c0b1a604e7f0\n",
      "        GPUlets ID: 9, Memory: 4.0 GB\n",
      "        belongs to NVIDIA GeForce RTX 3090: GPU-b5ef7776-5b2c-5b84-3aa9-c0b1a604e7f0\n",
      "        GPUlets ID: 10, Memory: 4.0 GB\n",
      "        belongs to NVIDIA GeForce RTX 3090: GPU-b5ef7776-5b2c-5b84-3aa9-c0b1a604e7f0\n",
      "        GPUlets ID: 11, Memory: 4.0 GB\n",
      "        belongs to NVIDIA GeForce RTX 3090: GPU-b5ef7776-5b2c-5b84-3aa9-c0b1a604e7f0\n"
     ]
    }
   ],
   "source": [
    "for key in cluster.gpu_info_per_node.keys():\n",
    "    for gpu in cluster.gpu_info_per_node[key]:\n",
    "        gpu.set_gpulets()\n",
    "        gpu.print_info()\n",
    "\n"
   ]
  },
  {
   "cell_type": "code",
   "execution_count": null,
   "metadata": {},
   "outputs": [],
   "source": [
    "global_virtual_physical_mesh = cluster.get_virtual_physical_mesh()\n",
    "global_virtual_physical_mesh.print()"
   ]
  },
  {
   "cell_type": "code",
   "execution_count": 5,
   "metadata": {},
   "outputs": [
    {
     "data": {
      "text/plain": [
       "((1, 1), (1, 2), (1, 4), (2, 4))"
      ]
     },
     "execution_count": 5,
     "metadata": {},
     "output_type": "execute_result"
    }
   ],
   "source": [
    "from alpa.pipeline_parallel.stage_construction import get_submesh_choices\n",
    "\n",
    "submesh_choices = get_submesh_choices(2, 4, \"all\")\n",
    "\n",
    "submesh_choices"
   ]
  },
  {
   "cell_type": "code",
   "execution_count": 6,
   "metadata": {},
   "outputs": [
    {
     "data": {
      "text/plain": [
       "((1, 1), (1, 2), (1, 4))"
      ]
     },
     "execution_count": 6,
     "metadata": {},
     "output_type": "execute_result"
    }
   ],
   "source": [
    "from alpa.pipeline_parallel.stage_construction import get_sub_gpulet_mesh_choices\n",
    "\n",
    "sub_gpulet_mesh_choices = get_sub_gpulet_mesh_choices(num_gpus=2,\n",
    "                                                      num_gpulets_per_gpu=[6, 6],\n",
    "                                                      space=\"all\")\n",
    "sub_gpulet_mesh_choices"
   ]
  },
  {
   "cell_type": "code",
   "execution_count": 20,
   "metadata": {},
   "outputs": [
    {
     "data": {
      "text/plain": [
       "(3, 7)"
      ]
     },
     "execution_count": 20,
     "metadata": {},
     "output_type": "execute_result"
    }
   ],
   "source": [
    "from typing import Sequence\n",
    "data = [3, 4]\n",
    "\n",
    "def func(data: Sequence[int]):\n",
    "    return min(data),sum(data)\n",
    "\n",
    "func(data)"
   ]
  },
  {
   "cell_type": "code",
   "execution_count": null,
   "metadata": {},
   "outputs": [],
   "source": [
    "class GPUlets():\n",
    "    id = 0\n",
    "    def __init__(self):\n",
    "        self.id = GPUlets.id\n",
    "        GPUlets.id += 1\n",
    "\n",
    "\n",
    "class GPU():\n",
    "    def __init__(self, id: int):\n",
    "        self.id = id\n",
    "        self.gpulets = [GPUlets() for _ in range(3)]\n",
    "\n",
    "def func(gpu_infos: Sequence[GPU]):\n",
    "    result = []\n",
    "    for gpu in gpu_infos:\n",
    "        result.append([gpulet.id for gpulet in gpu.gpulets])"
   ]
  }
 ],
 "metadata": {
  "kernelspec": {
   "display_name": "alpa",
   "language": "python",
   "name": "python3"
  },
  "language_info": {
   "codemirror_mode": {
    "name": "ipython",
    "version": 3
   },
   "file_extension": ".py",
   "mimetype": "text/x-python",
   "name": "python",
   "nbconvert_exporter": "python",
   "pygments_lexer": "ipython3",
   "version": "3.9.19"
  }
 },
 "nbformat": 4,
 "nbformat_minor": 2
}
