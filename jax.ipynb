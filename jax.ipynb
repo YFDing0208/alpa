{
 "cells": [
  {
   "cell_type": "markdown",
   "metadata": {},
   "source": []
  },
  {
   "cell_type": "code",
   "execution_count": 5,
   "metadata": {},
   "outputs": [],
   "source": [
    "import jax\n",
    "import jax.numpy as jnp\n",
    "\n",
    "from jax import grad"
   ]
  },
  {
   "cell_type": "markdown",
   "metadata": {},
   "source": []
  },
  {
   "cell_type": "markdown",
   "metadata": {},
   "source": []
  },
  {
   "cell_type": "code",
   "execution_count": 6,
   "metadata": {},
   "outputs": [
    {
     "name": "stdout",
     "output_type": "stream",
     "text": [
      "[0. 1. 2.]\n",
      "[0.25       0.19661194 0.10499357]\n"
     ]
    }
   ],
   "source": [
    "from jax import grad\n",
    "\n",
    "def sum_logistic(x):\n",
    "  return jnp.sum(1.0 / (1.0 + jnp.exp(-x)))\n",
    "\n",
    "x_small = jnp.arange(3.)\n",
    "derivative_fn = grad(sum_logistic)\n",
    "print(x_small)\n",
    "print(derivative_fn(x_small))"
   ]
  },
  {
   "cell_type": "markdown",
   "metadata": {},
   "source": []
  },
  {
   "cell_type": "code",
   "execution_count": 15,
   "metadata": {},
   "outputs": [
    {
     "name": "stdout",
     "output_type": "stream",
     "text": [
      "[ 2.194634   -5.9014564  -0.80030835  3.0623093   4.8723454  -6.2820053\n",
      "  2.2746496   5.109309   -6.387403    4.4732537   0.8514924   5.331101\n",
      " -2.8103292  -5.7421885   0.56605804  5.184789   -2.4608655  -1.5103221\n",
      " -0.8573533   4.39187   ]\n",
      "[ 0.700902   -1.5472901  -5.3857756   0.71137357  0.25184524  3.9353704\n",
      "  1.7903665   4.582093    0.2742404   5.8519993   3.992779    4.9032307\n",
      " -1.300314   -1.3217523   2.726924   -0.43353802 -0.7758179   3.1832604\n",
      "  0.8794904   5.8944206 ]\n",
      "[-1.5831186   2.7926424   5.2001114  -7.0306234  -0.5823697   0.8183627\n",
      "  0.5250131  -4.4935637   3.4041622  -1.3305156  -0.3964243   1.2360106\n",
      " -2.496494    0.8443636   4.531971    3.54793    -0.27171394 -1.1906793\n",
      "  5.9480853  -0.5166249 ]\n",
      "[-0.40956816 -3.390621   -0.76107645 -2.594502   -0.9882018   0.14693908\n",
      "  4.144276   -1.578219   -1.1291407  -0.5344701   0.3230201   3.1522849\n",
      " -2.6746552  -2.5621486   1.0059206   2.4140084  -0.41857228  0.81173867\n",
      "  0.19573656  2.9980764 ]\n",
      "[ 2.5354056  -1.4303145  -1.6937633   1.672991    0.7564081  -0.35035768\n",
      " -1.6193064   4.110547    0.03397983  2.1984637  -0.7564322  -2.0378633\n",
      "  2.0306575   0.42526424 -1.3254704   0.11372893 -2.480474   -0.89787495\n",
      "  2.8603616  -0.0350756 ]\n"
     ]
    }
   ],
   "source": [
    "from jax import random\n",
    "\n",
    "#key = random.key(1701)\n",
    "#key = random.rbg_key(0)#(1701)\n",
    "key = random.PRNGKey(1701)\n",
    "\n",
    "key1, key2 = random.split(key)\n",
    "mat = random.normal(key1, (20, 10))\n",
    "batched_x = random.normal(key2, (5, 10))\n",
    "\n",
    "def apply_matrix(x):\n",
    "  return jnp.dot(mat, x)\n",
    "\n",
    "#print(batched_x)\n",
    "for x in batched_x:\n",
    "  print(apply_matrix(x))\n"
   ]
  },
  {
   "cell_type": "markdown",
   "metadata": {},
   "source": []
  },
  {
   "cell_type": "code",
   "execution_count": 20,
   "metadata": {},
   "outputs": [
    {
     "name": "stdout",
     "output_type": "stream",
     "text": [
      "12.0\n",
      "-20.0\n"
     ]
    }
   ],
   "source": [
    "from jax import ShapedArray, jit\n",
    "\n",
    "def f(x):\n",
    "  if x < 3:\n",
    "    return 3. * x ** 2\n",
    "  else:\n",
    "    return -4 * x\n",
    "\n",
    "f = jit(f, static_argnums=(0,))\n",
    "\n",
    "print(f(2.))\n",
    "print(f(5.))\n",
    "\n"
   ]
  },
  {
   "cell_type": "markdown",
   "metadata": {},
   "source": []
  },
  {
   "cell_type": "code",
   "execution_count": 25,
   "metadata": {},
   "outputs": [
    {
     "name": "stdout",
     "output_type": "stream",
     "text": [
      "5\n"
     ]
    }
   ],
   "source": [
    "def f(x, y):\n",
    "    if x < 3:\n",
    "        return y\n",
    "    else:\n",
    "        return y * 2\n",
    "\n",
    "\n",
    "f_jitted = jit(f, static_argnums=(0,))\n",
    "\n",
    "# 追踪时 y 的值会被固定\n",
    "result = f_jitted(2, 5)\n",
    "print(result)  "
   ]
  },
  {
   "cell_type": "markdown",
   "metadata": {},
   "source": []
  },
  {
   "cell_type": "code",
   "execution_count": 29,
   "metadata": {},
   "outputs": [
    {
     "ename": "NameError",
     "evalue": "name 'partial' is not defined",
     "output_type": "error",
     "traceback": [
      "\u001b[0;31m---------------------------------------------------------------------------\u001b[0m",
      "\u001b[0;31mNameError\u001b[0m                                 Traceback (most recent call last)",
      "Cell \u001b[0;32mIn[29], line 9\u001b[0m\n\u001b[1;32m      6\u001b[0m \u001b[38;5;66;03m# 创建一个分片策略，将数组分割成两个部分，并分别放在两个设备上\u001b[39;00m\n\u001b[1;32m      7\u001b[0m sharding_spec \u001b[38;5;241m=\u001b[39m pjit\u001b[38;5;241m.\u001b[39mPartitionSpec(\u001b[38;5;241m0\u001b[39m)\n\u001b[0;32m----> 9\u001b[0m \u001b[38;5;129m@partial\u001b[39m(pjit\u001b[38;5;241m.\u001b[39mpjit, in_axis_resources\u001b[38;5;241m=\u001b[39msharding_spec, out_axis_resources\u001b[38;5;241m=\u001b[39msharding_spec)\n\u001b[1;32m     10\u001b[0m \u001b[38;5;28;01mdef\u001b[39;00m \u001b[38;5;21mparallel_function\u001b[39m(x):\n\u001b[1;32m     11\u001b[0m     \u001b[38;5;28;01mreturn\u001b[39;00m jnp\u001b[38;5;241m.\u001b[39msin(x)\n\u001b[1;32m     13\u001b[0m x \u001b[38;5;241m=\u001b[39m jnp\u001b[38;5;241m.\u001b[39marange(\u001b[38;5;241m5.0\u001b[39m)\n",
      "\u001b[0;31mNameError\u001b[0m: name 'partial' is not defined"
     ]
    }
   ],
   "source": [
    "from jax.experimental import pjit\n",
    "\n",
    "\n",
    "devices = jax.devices()\n",
    "\n",
    "# 创建一个分片策略，将数组分割成两个部分，并分别放在两个设备上\n",
    "sharding_spec = pjit.PartitionSpec(0)\n",
    "\n",
    "@partial(pjit.pjit, in_axis_resources=sharding_spec, out_axis_resources=sharding_spec)\n",
    "def parallel_function(x):\n",
    "    return jnp.sin(x)\n",
    "\n",
    "x = jnp.arange(5.0)\n",
    "\n",
    "y = parallel_function(x)\n",
    "print(y)\n"
   ]
  }
 ],
 "metadata": {
  "kernelspec": {
   "display_name": "alpa",
   "language": "python",
   "name": "python3"
  },
  "language_info": {
   "codemirror_mode": {
    "name": "ipython",
    "version": 3
   },
   "file_extension": ".py",
   "mimetype": "text/x-python",
   "name": "python",
   "nbconvert_exporter": "python",
   "pygments_lexer": "ipython3",
   "version": "3.9.19"
  }
 },
 "nbformat": 4,
 "nbformat_minor": 2
}
